{
 "cells": [
  {
   "cell_type": "code",
   "execution_count": 14,
   "metadata": {},
   "outputs": [],
   "source": [
    "import numpy as np\n",
    "from matplotlib import pyplot as plt\n",
    "import matplotlib.colors as colors\n",
    "import matplotlib.cm as cmx\n",
    "import pylab as pl\n",
    "from scipy import linalg"
   ]
  },
  {
   "cell_type": "code",
   "execution_count": null,
   "metadata": {},
   "outputs": [],
   "source": []
  },
  {
   "cell_type": "markdown",
   "metadata": {},
   "source": [
    "## Задание 1"
   ]
  },
  {
   "cell_type": "markdown",
   "metadata": {},
   "source": [
    "Изобразите с помощью matplotlib. Изобразите точку x + 2y + 3z. Найдите угол между векторами x, y и x, z. "
   ]
  },
  {
   "cell_type": "code",
   "execution_count": 180,
   "metadata": {},
   "outputs": [],
   "source": [
    "x = np.array([1,1])\n",
    "y = np.array([2, 0])\n",
    "z = np.array([0,2])\n",
    "test_vec = np.array([0.5, 3])"
   ]
  },
  {
   "cell_type": "code",
   "execution_count": 182,
   "metadata": {},
   "outputs": [
    {
     "data": {
      "text/plain": [
       "array([5, 7])"
      ]
     },
     "execution_count": 182,
     "metadata": {},
     "output_type": "execute_result"
    }
   ],
   "source": [
    "x + 2*y + 3*z"
   ]
  },
  {
   "cell_type": "code",
   "execution_count": 183,
   "metadata": {},
   "outputs": [
    {
     "data": {
      "text/plain": [
       "[<matplotlib.lines.Line2D at 0x6238efa10>]"
      ]
     },
     "execution_count": 183,
     "metadata": {},
     "output_type": "execute_result"
    },
    {
     "data": {
      "image/png": "[encoded data removed]",
      "text/plain": [
       "<Figure size 432x288 with 1 Axes>"
      ]
     },
     "metadata": {
      "needs_background": "light"
     },
     "output_type": "display_data"
    }
   ],
   "source": [
    "point = x + 2*y + 3*z\n",
    "plt.plot(point[0], point[1], marker='o', linewidth=2, markersize=12)"
   ]
  },
  {
   "cell_type": "code",
   "execution_count": 196,
   "metadata": {},
   "outputs": [
    {
     "data": {
      "image/png": "[encoded data removed]",
      "text/plain": [
       "<Figure size 432x288 with 1 Axes>"
      ]
     },
     "metadata": {
      "needs_background": "light"
     },
     "output_type": "display_data"
    }
   ],
   "source": [
    "ax = plt.axes()\n",
    "\n",
    "plt.xlim( [-1, 8] )\n",
    "plt.ylim( [-1, 8] )\n",
    "\n",
    "ax.arrow( 0, 0, x[0], x[1], head_width=0.1, head_length=0.1, fc='r', ec='r' )\n",
    "ax.arrow( 0, 0, y[0], y[1], head_width=0.1, head_length=0.1, fc='k', ec='k' )\n",
    "ax.arrow( 0, 0, z[0], z[1], head_width=0.1, head_length=0.1, fc='g', ec='g' )\n",
    "ax.arrow( 0, 0, point[0], point[1], head_width=0.1, head_length=0.1, fc='g', ec='g' )\n",
    "\n",
    "# ax.arrow( 0, 0, test_vec[0], test_vec[1], head_width=0.1, head_length=0.1, fc='k', ec='k' )\n",
    "\n",
    "plt.show()"
   ]
  },
  {
   "cell_type": "code",
   "execution_count": 48,
   "metadata": {},
   "outputs": [],
   "source": [
    "def get_vectors_angle(vec1, vec2):\n",
    "    # длины векторов\n",
    "    vec1Length = np.linalg.norm( vec1 )\n",
    "    vec2Length = np.linalg.norm( vec2 )\n",
    "    \n",
    "    # угол между векторами в градусах\n",
    "    return print(f'The angle between your vectors is \\\n",
    "{round((np.dot( vec1, vec2 ) / ( vec1Length * vec2Length )) * 360 /2 /np.pi, 2)}°')"
   ]
  },
  {
   "cell_type": "code",
   "execution_count": 49,
   "metadata": {},
   "outputs": [
    {
     "name": "stdout",
     "output_type": "stream",
     "text": [
      "The angle between your vectors is 40.51°\n"
     ]
    }
   ],
   "source": [
    "get_vectors_angle(x,y)"
   ]
  },
  {
   "cell_type": "code",
   "execution_count": 50,
   "metadata": {},
   "outputs": [
    {
     "name": "stdout",
     "output_type": "stream",
     "text": [
      "The angle between your vectors is 40.51°\n"
     ]
    }
   ],
   "source": [
    "get_vectors_angle(x,z)"
   ]
  },
  {
   "cell_type": "code",
   "execution_count": 51,
   "metadata": {},
   "outputs": [
    {
     "name": "stdout",
     "output_type": "stream",
     "text": [
      "The angle between your vectors is 0.0°\n"
     ]
    }
   ],
   "source": [
    "get_vectors_angle(y,z)"
   ]
  },
  {
   "cell_type": "code",
   "execution_count": 46,
   "metadata": {},
   "outputs": [],
   "source": [
    "# get_vectors_angle(test_vec, z)"
   ]
  },
  {
   "cell_type": "code",
   "execution_count": 54,
   "metadata": {},
   "outputs": [
    {
     "data": {
      "text/plain": [
       "array([0, 2])"
      ]
     },
     "execution_count": 54,
     "metadata": {},
     "output_type": "execute_result"
    }
   ],
   "source": [
    "z"
   ]
  },
  {
   "cell_type": "code",
   "execution_count": 55,
   "metadata": {},
   "outputs": [
    {
     "data": {
      "text/plain": [
       "0.0"
      ]
     },
     "execution_count": 55,
     "metadata": {},
     "output_type": "execute_result"
    }
   ],
   "source": [
    "np.dot(y,z)/(np.linalg.norm(y) * np.linalg.norm(z))"
   ]
  },
  {
   "cell_type": "markdown",
   "metadata": {},
   "source": [
    "## Задание 2"
   ]
  },
  {
   "cell_type": "markdown",
   "metadata": {},
   "source": [
    "Найдите собственные значения и собственные вектора матриц (необходимо решение на numpy и решение по алгоритму на бумажке). Для матрицы 3x3 можно посмотреть на корни характеристического многочлена, посчитанные в numpy."
   ]
  },
  {
   "cell_type": "code",
   "execution_count": 56,
   "metadata": {},
   "outputs": [],
   "source": [
    "m1 = np.array([[2, 2],\n",
    "               [1, 3]])\n",
    "\n",
    "m2 = np.array([[4, 1, -1],\n",
    "               [1, 4, -1],\n",
    "               [-1, -1, 4]])"
   ]
  },
  {
   "cell_type": "markdown",
   "metadata": {},
   "source": [
    "#### Задание 2 - решение на numpy (для всех мтариц)"
   ]
  },
  {
   "cell_type": "code",
   "execution_count": 131,
   "metadata": {},
   "outputs": [],
   "source": [
    "def find_eigenvector_eigenvalue(my_matrix):\n",
    "    w, v = np.linalg.eig(my_matrix)\n",
    "    for i in range(len(w)):\n",
    "        print(\"Собственное значение \" + str(w[i]))\n",
    "        print(\"соответствующий ему собственный вектор \" + str(v[:,i]))"
   ]
  },
  {
   "cell_type": "code",
   "execution_count": 132,
   "metadata": {},
   "outputs": [
    {
     "name": "stdout",
     "output_type": "stream",
     "text": [
      "Собственное значение 1.0\n",
      "соответствующий ему собственный вектор [-0.89442719  0.4472136 ]\n",
      "Собственное значение 4.0\n",
      "соответствующий ему собственный вектор [-0.70710678 -0.70710678]\n"
     ]
    }
   ],
   "source": [
    "find_eigenvector_eigenvalue(m1)"
   ]
  },
  {
   "cell_type": "code",
   "execution_count": 133,
   "metadata": {},
   "outputs": [
    {
     "data": {
      "text/plain": [
       "array([[2, 2],\n",
       "       [1, 3]])"
      ]
     },
     "execution_count": 133,
     "metadata": {},
     "output_type": "execute_result"
    }
   ],
   "source": [
    "m1"
   ]
  },
  {
   "cell_type": "markdown",
   "metadata": {},
   "source": [
    "#### Задание 2 - решение \"на бумажке\", только для матрицы 2х2."
   ]
  },
  {
   "cell_type": "code",
   "execution_count": 120,
   "metadata": {},
   "outputs": [],
   "source": [
    "def enter_solutions_2x2_matrix():\n",
    "    solution_x = float(input('Enter your solution for x: '))\n",
    "    solution_y = float(input('Enter your solution for y: '))\n",
    "    solution = np.array([solution_x, solution_y])\n",
    "    return solution"
   ]
  },
  {
   "cell_type": "code",
   "execution_count": 129,
   "metadata": {},
   "outputs": [],
   "source": [
    "def find_eigenvector_eigenvalue_step_by_step_2x2(my_2_x_2_matrix):\n",
    "    b = -m1[0,0] - m1[1,1]\n",
    "    c = m1[0,0] * m1[1,1] - m1[1,0] * m1[0,1]\n",
    "    print(f'Step 1 - solve the quadratic equation from matrix determinator x^2 + ({b})*x + ({c})')\n",
    "    d = (b**2) - (4*a*c)\n",
    "    print(f'Step 1.1 - calculate the discriminant by formula d = b^2 - 4*(a*c), where d = {d}')\n",
    "    sol1 = (-b-np.sqrt(d))/(2*a)\n",
    "    sol2 = (-b+np.sqrt(d))/(2*a)\n",
    "    eigenvalues = [sol1, sol2]\n",
    "    print(f'Step 1.2 - find two solutions by formula (-b ± d^2)/(2*a)')\n",
    "    print('The solution are {0} and {1}'.format(sol1,sol2))\n",
    "    print('Step 2 - insert each solutions in matrix:')\n",
    "    print(f'[[({m1[0,0]} - λ), {m1[0,1]}],')\n",
    "    print(f'[{m1[1,0]}, ({m1[1,1]} - λ)]]')\n",
    "    for i in eigenvalues:\n",
    "        print(f'find one possible solution for the system of linear equations with λ = {i}:')\n",
    "        left_part = np.array([[m1[0,0]-i, m1[0,1]], [m1[1,0], m1[1,1]-i]])\n",
    "        right_part = np.array([0, 0])\n",
    "        print(f'{left_part[0,0]}*x + {left_part[0,1]}*y,')\n",
    "        print(f'{left_part[1,0]}*x + {left_part[1,1]}*y')\n",
    "        solution = enter_solutions_2x2_matrix()\n",
    "        if np.allclose( np.dot(left_part, solution),  right_part):\n",
    "            print(f'Your solution is OK, your eigenvalue is {i} and your eigenvector is {solution}')\n",
    "        else:\n",
    "            print('Wrong solution, do you want to try one more?')\n",
    "            one_more = int(input('Enter 1 to try another solution, enter 0 to finish.'))\n",
    "            if one_more == 1:\n",
    "                enter_solutions_2x2_matrix()\n",
    "            elif one_more == 0:\n",
    "                print('Stop')"
   ]
  },
  {
   "cell_type": "code",
   "execution_count": 134,
   "metadata": {},
   "outputs": [
    {
     "name": "stdout",
     "output_type": "stream",
     "text": [
      "Step 1 - solve the quadratic equation from matrix determinator x^2 + (-5)*x + (4)\n",
      "Step 1.1 - calculate the discriminant by formula d = b^2 - 4*(a*c), where d = 9\n",
      "Step 1.2 - find two solutions by formula (-b ± d^2)/(2*a)\n",
      "The solution are 1.0 and 4.0\n",
      "Step 2 - insert each solutions in matrix:\n",
      "[[(2 - λ), 2],\n",
      "[1, (3 - λ)]]\n",
      "find one possible solution for the system of linear equations with λ = 1.0:\n",
      "1.0*x + 2.0*y,\n",
      "1.0*x + 2.0*y\n",
      "Enter your solution for x: -0.89442719\n",
      "Enter your solution for y: 0.4472136\n",
      "Your solution is OK, your eigenvalue is 1.0 and your eigenvector is [-0.89442719  0.4472136 ]\n",
      "find one possible solution for the system of linear equations with λ = 4.0:\n",
      "-2.0*x + 2.0*y,\n",
      "1.0*x + -1.0*y\n",
      "Enter your solution for x: -0.70710678\n",
      "Enter your solution for y: -0.70710678\n",
      "Your solution is OK, your eigenvalue is 4.0 and your eigenvector is [-0.70710678 -0.70710678]\n"
     ]
    }
   ],
   "source": [
    "find_eigenvector_eigenvalue_step_by_step_2x2(m1)"
   ]
  },
  {
   "cell_type": "markdown",
   "metadata": {},
   "source": [
    "## Задание 3"
   ]
  },
  {
   "cell_type": "markdown",
   "metadata": {},
   "source": [
    "Найдите сингулярное разложение матрицы."
   ]
  },
  {
   "cell_type": "code",
   "execution_count": 136,
   "metadata": {},
   "outputs": [
    {
     "data": {
      "text/plain": [
       "array([[1, 2],\n",
       "       [2, 3]])"
      ]
     },
     "execution_count": 136,
     "metadata": {},
     "output_type": "execute_result"
    }
   ],
   "source": [
    "m3 = np.array([[1, 2],\n",
    "               [2, 3]])\n",
    "m3"
   ]
  },
  {
   "cell_type": "code",
   "execution_count": 139,
   "metadata": {},
   "outputs": [
    {
     "data": {
      "image/png": "[encoded data removed]",
      "text/plain": [
       "<Figure size 288x288 with 1 Axes>"
      ]
     },
     "metadata": {
      "needs_background": "light"
     },
     "output_type": "display_data"
    }
   ],
   "source": [
    "plt.matshow(m3, cmap = 'gray')\n",
    "plt.show()"
   ]
  },
  {
   "cell_type": "code",
   "execution_count": 153,
   "metadata": {},
   "outputs": [],
   "source": [
    "float_formatter = lambda x: \"%.2f\" % x\n",
    "np.set_printoptions(formatter={'float_kind':float_formatter})"
   ]
  },
  {
   "cell_type": "code",
   "execution_count": 163,
   "metadata": {},
   "outputs": [
    {
     "name": "stdout",
     "output_type": "stream",
     "text": [
      "[[1.00 2.00]\n",
      " [2.00 3.00]]\n"
     ]
    }
   ],
   "source": [
    "U, s, V = np.linalg.svd(m3)\n",
    "S = np.zeros((m3.shape[0], m3.shape[1]))\n",
    "S[:m3.shape[0], :m3.shape[0]] = np.diag(s)\n",
    "# n_component = 3\n",
    "# S = S[:, :n_component]\n",
    "# V = V[:n_component, :]\n",
    "A = U.dot(S.dot(V))\n",
    "print(A)\n",
    "# print(V, U, s, S, sep='\\n')\n",
    "# np.dot(V, V.T)"
   ]
  },
  {
   "cell_type": "code",
   "execution_count": 164,
   "metadata": {},
   "outputs": [],
   "source": [
    "# plt.matshow(A, cmap = 'gray')"
   ]
  },
  {
   "cell_type": "code",
   "execution_count": null,
   "metadata": {},
   "outputs": [],
   "source": []
  }
 ],
 "metadata": {
  "kernelspec": {
   "display_name": "Python 3",
   "language": "python",
   "name": "python3"
  },
  "language_info": {
   "codemirror_mode": {
    "name": "ipython",
    "version": 3
   },
   "file_extension": ".py",
   "mimetype": "text/x-python",
   "name": "python",
   "nbconvert_exporter": "python",
   "pygments_lexer": "ipython3",
   "version": "3.7.6"
  }
 },
 "nbformat": 4,
 "nbformat_minor": 2
}
